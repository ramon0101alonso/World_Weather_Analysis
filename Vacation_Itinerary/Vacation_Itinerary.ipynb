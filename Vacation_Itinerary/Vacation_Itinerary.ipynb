{
 "cells": [
  {
   "cell_type": "markdown",
   "metadata": {},
   "source": [
    "# Deliverable 3. Create a Travel Itinerary Map.\n",
    "----\n",
    "1. Import the vacation CSV file. \n",
    "2. From the map above with pick 4 cities that are in close proximity (on the same continent) that the customer would travel to and create a directions layer map.\n",
    "3. For the \"travel_mode\" use either \"DRIVING\", \"BICYCLING\", or \"WALKING\".\n",
    "4. Take a screenshot of the route and save it. \n",
    "5. Then create a marker layer for the four cities. Each city will should have a pop-up marker that contains\n",
    "    - The hotel name\n",
    "    - The city\n",
    "    - The country\n",
    "    - The current weather description and the maximum temperature\n",
    "---"
   ]
  },
  {
   "cell_type": "markdown",
   "metadata": {},
   "source": [
    "## Make sure the initial dependencies and the Google API key are imported."
   ]
  },
  {
   "cell_type": "code",
   "execution_count": 12,
   "metadata": {},
   "outputs": [],
   "source": [
    "# Dependencies and Setup\n",
    "import pandas as pd\n",
    "import requests\n",
    "import gmaps\n",
    "import gmaps.datasets\n",
    "\n",
    "\n",
    "# Import API key\n",
    "from config import g_key"
   ]
  },
  {
   "cell_type": "code",
   "execution_count": 3,
   "metadata": {},
   "outputs": [],
   "source": [
    "# Configure gmaps\n",
    "gmaps.configure(api_key=g_key)"
   ]
  },
  {
   "cell_type": "markdown",
   "metadata": {},
   "source": [
    "## From your `Vacation_Search` folder from Deliverable 2, import the `WeatherPy_vacation.csv` file as a DataFrame named `vacation_df`"
   ]
  },
  {
   "cell_type": "code",
   "execution_count": 8,
   "metadata": {},
   "outputs": [
    {
     "data": {
      "text/html": [
       "<div>\n",
       "<style scoped>\n",
       "    .dataframe tbody tr th:only-of-type {\n",
       "        vertical-align: middle;\n",
       "    }\n",
       "\n",
       "    .dataframe tbody tr th {\n",
       "        vertical-align: top;\n",
       "    }\n",
       "\n",
       "    .dataframe thead th {\n",
       "        text-align: right;\n",
       "    }\n",
       "</style>\n",
       "<table border=\"1\" class=\"dataframe\">\n",
       "  <thead>\n",
       "    <tr style=\"text-align: right;\">\n",
       "      <th></th>\n",
       "      <th>City_ID</th>\n",
       "      <th>City_ID.1</th>\n",
       "      <th>City</th>\n",
       "      <th>Country</th>\n",
       "      <th>Max Temp</th>\n",
       "      <th>Current Description</th>\n",
       "      <th>Lat</th>\n",
       "      <th>Lng</th>\n",
       "      <th>Hotel Name</th>\n",
       "    </tr>\n",
       "  </thead>\n",
       "  <tbody>\n",
       "    <tr>\n",
       "      <th>0</th>\n",
       "      <td>0</td>\n",
       "      <td>2</td>\n",
       "      <td>Aksu</td>\n",
       "      <td>CN</td>\n",
       "      <td>82.42</td>\n",
       "      <td>clear sky</td>\n",
       "      <td>41.12</td>\n",
       "      <td>80.26</td>\n",
       "      <td>Pudong Holiday Hotel</td>\n",
       "    </tr>\n",
       "    <tr>\n",
       "      <th>1</th>\n",
       "      <td>1</td>\n",
       "      <td>7</td>\n",
       "      <td>Touros</td>\n",
       "      <td>BR</td>\n",
       "      <td>80.60</td>\n",
       "      <td>broken clouds</td>\n",
       "      <td>-5.20</td>\n",
       "      <td>-35.46</td>\n",
       "      <td>INN NEW HORIZON</td>\n",
       "    </tr>\n",
       "    <tr>\n",
       "      <th>2</th>\n",
       "      <td>2</td>\n",
       "      <td>10</td>\n",
       "      <td>Morehead</td>\n",
       "      <td>US</td>\n",
       "      <td>75.20</td>\n",
       "      <td>clear sky</td>\n",
       "      <td>37.27</td>\n",
       "      <td>-87.18</td>\n",
       "      <td>CCI Express Inn</td>\n",
       "    </tr>\n",
       "    <tr>\n",
       "      <th>3</th>\n",
       "      <td>3</td>\n",
       "      <td>11</td>\n",
       "      <td>Port Elizabeth</td>\n",
       "      <td>ZA</td>\n",
       "      <td>84.20</td>\n",
       "      <td>clear sky</td>\n",
       "      <td>-33.92</td>\n",
       "      <td>25.57</td>\n",
       "      <td>39 On Nile Guest House</td>\n",
       "    </tr>\n",
       "    <tr>\n",
       "      <th>4</th>\n",
       "      <td>4</td>\n",
       "      <td>16</td>\n",
       "      <td>Northam</td>\n",
       "      <td>GB</td>\n",
       "      <td>82.40</td>\n",
       "      <td>few clouds</td>\n",
       "      <td>51.03</td>\n",
       "      <td>-4.22</td>\n",
       "      <td>Durrant House Hotel</td>\n",
       "    </tr>\n",
       "    <tr>\n",
       "      <th>...</th>\n",
       "      <td>...</td>\n",
       "      <td>...</td>\n",
       "      <td>...</td>\n",
       "      <td>...</td>\n",
       "      <td>...</td>\n",
       "      <td>...</td>\n",
       "      <td>...</td>\n",
       "      <td>...</td>\n",
       "      <td>...</td>\n",
       "    </tr>\n",
       "    <tr>\n",
       "      <th>347</th>\n",
       "      <td>347</td>\n",
       "      <td>695</td>\n",
       "      <td>Kostomuksha</td>\n",
       "      <td>RU</td>\n",
       "      <td>79.27</td>\n",
       "      <td>overcast clouds</td>\n",
       "      <td>64.57</td>\n",
       "      <td>30.58</td>\n",
       "      <td>Apartments on Lenina 17</td>\n",
       "    </tr>\n",
       "    <tr>\n",
       "      <th>348</th>\n",
       "      <td>348</td>\n",
       "      <td>700</td>\n",
       "      <td>Sabratah</td>\n",
       "      <td>LY</td>\n",
       "      <td>85.15</td>\n",
       "      <td>clear sky</td>\n",
       "      <td>32.79</td>\n",
       "      <td>12.49</td>\n",
       "      <td>مقبرة المجاهديه</td>\n",
       "    </tr>\n",
       "    <tr>\n",
       "      <th>349</th>\n",
       "      <td>349</td>\n",
       "      <td>704</td>\n",
       "      <td>Wuwei</td>\n",
       "      <td>CN</td>\n",
       "      <td>75.00</td>\n",
       "      <td>overcast clouds</td>\n",
       "      <td>37.93</td>\n",
       "      <td>102.64</td>\n",
       "      <td>Thank Inn Chain Hotel gansu wuwei liangzhou di...</td>\n",
       "    </tr>\n",
       "    <tr>\n",
       "      <th>350</th>\n",
       "      <td>350</td>\n",
       "      <td>705</td>\n",
       "      <td>Chake Chake</td>\n",
       "      <td>TZ</td>\n",
       "      <td>78.87</td>\n",
       "      <td>few clouds</td>\n",
       "      <td>-5.25</td>\n",
       "      <td>39.77</td>\n",
       "      <td>Hotel Archipelago</td>\n",
       "    </tr>\n",
       "    <tr>\n",
       "      <th>351</th>\n",
       "      <td>351</td>\n",
       "      <td>706</td>\n",
       "      <td>Januaria</td>\n",
       "      <td>BR</td>\n",
       "      <td>79.92</td>\n",
       "      <td>clear sky</td>\n",
       "      <td>-15.48</td>\n",
       "      <td>-44.37</td>\n",
       "      <td>Hotel Paraguassu</td>\n",
       "    </tr>\n",
       "  </tbody>\n",
       "</table>\n",
       "<p>352 rows × 9 columns</p>\n",
       "</div>"
      ],
      "text/plain": [
       "     City_ID  City_ID.1            City Country  Max Temp Current Description  \\\n",
       "0          0          2            Aksu      CN     82.42           clear sky   \n",
       "1          1          7          Touros      BR     80.60       broken clouds   \n",
       "2          2         10        Morehead      US     75.20           clear sky   \n",
       "3          3         11  Port Elizabeth      ZA     84.20           clear sky   \n",
       "4          4         16         Northam      GB     82.40          few clouds   \n",
       "..       ...        ...             ...     ...       ...                 ...   \n",
       "347      347        695     Kostomuksha      RU     79.27     overcast clouds   \n",
       "348      348        700        Sabratah      LY     85.15           clear sky   \n",
       "349      349        704           Wuwei      CN     75.00     overcast clouds   \n",
       "350      350        705     Chake Chake      TZ     78.87          few clouds   \n",
       "351      351        706        Januaria      BR     79.92           clear sky   \n",
       "\n",
       "       Lat     Lng                                         Hotel Name  \n",
       "0    41.12   80.26                               Pudong Holiday Hotel  \n",
       "1    -5.20  -35.46                                    INN NEW HORIZON  \n",
       "2    37.27  -87.18                                    CCI Express Inn  \n",
       "3   -33.92   25.57                             39 On Nile Guest House  \n",
       "4    51.03   -4.22                                Durrant House Hotel  \n",
       "..     ...     ...                                                ...  \n",
       "347  64.57   30.58                            Apartments on Lenina 17  \n",
       "348  32.79   12.49                                    مقبرة المجاهديه  \n",
       "349  37.93  102.64  Thank Inn Chain Hotel gansu wuwei liangzhou di...  \n",
       "350  -5.25   39.77                                  Hotel Archipelago  \n",
       "351 -15.48  -44.37                                   Hotel Paraguassu  \n",
       "\n",
       "[352 rows x 9 columns]"
      ]
     },
     "execution_count": 8,
     "metadata": {},
     "output_type": "execute_result"
    }
   ],
   "source": [
    "# Read the WeatherPy_vacation.csv into a DataFrame\n",
    "vacation_df = pd.read_csv(\"../Vacation_Search/WeatherPy_vacation.csv\")\n",
    "\n",
    "# Display sample data\n",
    "vacation_df"
   ]
  },
  {
   "cell_type": "markdown",
   "metadata": {},
   "source": [
    "**Note:** If the resulting DataFrame is empty, uncomment the following code to load sample data into the `clean_hotel_df`."
   ]
  },
  {
   "cell_type": "code",
   "execution_count": null,
   "metadata": {},
   "outputs": [],
   "source": [
    "# In case of an empty DataFrame, load the sample data provided\n",
    "# clean_hotel_df = pd.read_csv(\"WeatherPy_vacation-backup.csv\")\n",
    "# clean_hotel_df.head(10)"
   ]
  },
  {
   "cell_type": "markdown",
   "metadata": {
    "tags": []
   },
   "source": [
    "## In this step, you will set-up the pop-up markers. Review the code to create a marker layer map of the vacation search results. This code is the same as in Deliverable 2."
   ]
  },
  {
   "cell_type": "code",
   "execution_count": 6,
   "metadata": {},
   "outputs": [],
   "source": [
    "# Review the formatting template\n",
    "info_box_template = \"\"\"\n",
    "<dl>\n",
    "<dt>Hotel Name</dt><dd>{Hotel Name}</dd>\n",
    "<dt>City</dt><dd>{City}</dd>\n",
    "<dt>Country</dt><dd>{Country}</dd>\n",
    "<dt>Current Weather</dt><dd>{Current Description} and {Max Temp} °F</dd>\n",
    "</dl>\n",
    "\"\"\"\n",
    "\n",
    "# Get the data from each row and add it to the formatting template and store the data in a list\n",
    "hotel_info = [info_box_template.format(**row) for index, row in vacation_df.iterrows()]\n",
    "\n",
    "# Get the latitude and longitude from each row and store in a new DataFrame.\n",
    "locations = vacation_df[[\"Lat\", \"Lng\"]]"
   ]
  },
  {
   "cell_type": "code",
   "execution_count": 7,
   "metadata": {},
   "outputs": [
    {
     "data": {
      "application/vnd.jupyter.widget-view+json": {
       "model_id": "854899774b2a475793eba14697d47382",
       "version_major": 2,
       "version_minor": 0
      },
      "text/plain": [
       "Figure(layout=FigureLayout(height='420px'))"
      ]
     },
     "metadata": {},
     "output_type": "display_data"
    }
   ],
   "source": [
    "# Add a marker layer for each city to the map.\n",
    "marker_layer = gmaps.marker_layer(locations, info_box_content=hotel_info)\n",
    "fig = gmaps.figure()\n",
    "fig.add_layer(marker_layer)\n",
    "\n",
    "# Display the figure\n",
    "fig"
   ]
  },
  {
   "cell_type": "markdown",
   "metadata": {},
   "source": [
    "## From the vacation search map, *choose four cities* that a customer might want to visit. They should be close together and in the same country."
   ]
  },
  {
   "cell_type": "code",
   "execution_count": 30,
   "metadata": {},
   "outputs": [],
   "source": [
    "# Create DataFrames for each city by filtering the 'vacation_df' using the loc method. \n",
    "# The starting and ending city should be the same city.\n",
    "vacation_start = vacation_df.loc[vacation_df[\"City\"]=='Northam']\n",
    "vacation_end =  vacation_df.loc[vacation_df[\"City\"]=='Barrhead']\n",
    "vacation_stop1 =  vacation_df.loc[vacation_df[\"City\"]=='Margate']\n",
    "vacation_stop2 =  vacation_df.loc[vacation_df[\"City\"]=='Liverpool']\n",
    "vacation_stop3 =  vacation_df.loc[vacation_df[\"City\"]=='Warrington']"
   ]
  },
  {
   "cell_type": "code",
   "execution_count": 31,
   "metadata": {},
   "outputs": [
    {
     "data": {
      "text/html": [
       "<div>\n",
       "<style scoped>\n",
       "    .dataframe tbody tr th:only-of-type {\n",
       "        vertical-align: middle;\n",
       "    }\n",
       "\n",
       "    .dataframe tbody tr th {\n",
       "        vertical-align: top;\n",
       "    }\n",
       "\n",
       "    .dataframe thead th {\n",
       "        text-align: right;\n",
       "    }\n",
       "</style>\n",
       "<table border=\"1\" class=\"dataframe\">\n",
       "  <thead>\n",
       "    <tr style=\"text-align: right;\">\n",
       "      <th></th>\n",
       "      <th>City_ID</th>\n",
       "      <th>City_ID.1</th>\n",
       "      <th>City</th>\n",
       "      <th>Country</th>\n",
       "      <th>Max Temp</th>\n",
       "      <th>Current Description</th>\n",
       "      <th>Lat</th>\n",
       "      <th>Lng</th>\n",
       "      <th>Hotel Name</th>\n",
       "    </tr>\n",
       "  </thead>\n",
       "  <tbody>\n",
       "    <tr>\n",
       "      <th>4</th>\n",
       "      <td>4</td>\n",
       "      <td>16</td>\n",
       "      <td>Northam</td>\n",
       "      <td>GB</td>\n",
       "      <td>82.40</td>\n",
       "      <td>few clouds</td>\n",
       "      <td>51.03</td>\n",
       "      <td>-4.22</td>\n",
       "      <td>Durrant House Hotel</td>\n",
       "    </tr>\n",
       "    <tr>\n",
       "      <th>81</th>\n",
       "      <td>81</td>\n",
       "      <td>200</td>\n",
       "      <td>Barrhead</td>\n",
       "      <td>GB</td>\n",
       "      <td>80.01</td>\n",
       "      <td>scattered clouds</td>\n",
       "      <td>55.80</td>\n",
       "      <td>-4.39</td>\n",
       "      <td>The Gleniffer Hotel</td>\n",
       "    </tr>\n",
       "    <tr>\n",
       "      <th>99</th>\n",
       "      <td>99</td>\n",
       "      <td>237</td>\n",
       "      <td>Margate</td>\n",
       "      <td>GB</td>\n",
       "      <td>84.99</td>\n",
       "      <td>clear sky</td>\n",
       "      <td>51.38</td>\n",
       "      <td>1.39</td>\n",
       "      <td>Premier Inn Margate hotel</td>\n",
       "    </tr>\n",
       "    <tr>\n",
       "      <th>207</th>\n",
       "      <td>207</td>\n",
       "      <td>438</td>\n",
       "      <td>Liverpool</td>\n",
       "      <td>GB</td>\n",
       "      <td>88.00</td>\n",
       "      <td>few clouds</td>\n",
       "      <td>53.41</td>\n",
       "      <td>-2.98</td>\n",
       "      <td>Premier Inn Liverpool City Centre (Moorfields)...</td>\n",
       "    </tr>\n",
       "    <tr>\n",
       "      <th>304</th>\n",
       "      <td>304</td>\n",
       "      <td>607</td>\n",
       "      <td>Scarborough</td>\n",
       "      <td>GB</td>\n",
       "      <td>73.99</td>\n",
       "      <td>clear sky</td>\n",
       "      <td>54.28</td>\n",
       "      <td>-0.40</td>\n",
       "      <td>Ambassador</td>\n",
       "    </tr>\n",
       "    <tr>\n",
       "      <th>317</th>\n",
       "      <td>317</td>\n",
       "      <td>633</td>\n",
       "      <td>Warrington</td>\n",
       "      <td>GB</td>\n",
       "      <td>88.00</td>\n",
       "      <td>clear sky</td>\n",
       "      <td>53.39</td>\n",
       "      <td>-2.58</td>\n",
       "      <td>Villaggio Hotel</td>\n",
       "    </tr>\n",
       "  </tbody>\n",
       "</table>\n",
       "</div>"
      ],
      "text/plain": [
       "     City_ID  City_ID.1         City Country  Max Temp Current Description  \\\n",
       "4          4         16      Northam      GB     82.40          few clouds   \n",
       "81        81        200     Barrhead      GB     80.01    scattered clouds   \n",
       "99        99        237      Margate      GB     84.99           clear sky   \n",
       "207      207        438    Liverpool      GB     88.00          few clouds   \n",
       "304      304        607  Scarborough      GB     73.99           clear sky   \n",
       "317      317        633   Warrington      GB     88.00           clear sky   \n",
       "\n",
       "       Lat   Lng                                         Hotel Name  \n",
       "4    51.03 -4.22                                Durrant House Hotel  \n",
       "81   55.80 -4.39                                The Gleniffer Hotel  \n",
       "99   51.38  1.39                          Premier Inn Margate hotel  \n",
       "207  53.41 -2.98  Premier Inn Liverpool City Centre (Moorfields)...  \n",
       "304  54.28 -0.40                                         Ambassador  \n",
       "317  53.39 -2.58                                    Villaggio Hotel  "
      ]
     },
     "execution_count": 31,
     "metadata": {},
     "output_type": "execute_result"
    }
   ],
   "source": [
    "italy_df = vacation_df.query(\"Country == 'GB'\")\n",
    "italy_df"
   ]
  },
  {
   "cell_type": "markdown",
   "metadata": {},
   "source": [
    "## Use the `to_numpy()` function and list indexing to write code to retrieve the latitude-longitude pairs as tuples from each city DataFrame."
   ]
  },
  {
   "cell_type": "code",
   "execution_count": 32,
   "metadata": {},
   "outputs": [],
   "source": [
    "# Get the latitude-longitude pairs as tuples from each city DataFrame using the to_numpy function and list indexing.\n",
    "start = tuple(map(tuple,(vacation_start[['Lat', 'Lng']].to_numpy())))[0]\n",
    "end = tuple(map(tuple,(vacation_end[['Lat', 'Lng']].to_numpy())))[0]\n",
    "stop1 = tuple(map(tuple,(vacation_stop1[['Lat', 'Lng']].to_numpy())))[0]\n",
    "stop2 = tuple(map(tuple,(vacation_stop2[['Lat', 'Lng']].to_numpy())))[0]\n",
    "stop3 = tuple(map(tuple,(vacation_stop3[['Lat', 'Lng']].to_numpy())))[0]"
   ]
  },
  {
   "cell_type": "markdown",
   "metadata": {},
   "source": [
    "## Use the [gmaps documentation](https://jupyter-gmaps.readthedocs.io/en/latest/tutorial.html#directions-layer) to create a directions layer map using the variables from the previous step. Where the starting and ending city are the same city, the `waypoints` are the three other cities, and the `travel_mode` is either `\"DRIVING\"`, `\"BICYCLING\"`, or `\"WALKING\"`."
   ]
  },
  {
   "cell_type": "code",
   "execution_count": 33,
   "metadata": {
    "tags": []
   },
   "outputs": [
    {
     "data": {
      "application/vnd.jupyter.widget-view+json": {
       "model_id": "abebe67a170345bb8e2795311e5533dc",
       "version_major": 2,
       "version_minor": 0
      },
      "text/plain": [
       "Figure(layout=FigureLayout(height='420px'))"
      ]
     },
     "metadata": {},
     "output_type": "display_data"
    }
   ],
   "source": [
    "# Define a new figure object\n",
    "\n",
    "fig = gmaps.figure()\n",
    "\n",
    "# Create a direction layer map using the start and end latitude-longitude pairs, and stop1, stop2, and stop3 as the waypoints.\n",
    "# The travel_mode should be \"DRIVING\", \"BICYCLING\", or \"WALKING\".\n",
    "vacation_itinerary = gmaps.directions_layer(start, end, waypoints=[stop1, stop2, stop3,], travel_mode='DRIVING')\n",
    "\n",
    "# Add the layer to the map\n",
    "fig.add_layer(vacation_itinerary)\n",
    "\n",
    "# Display the map\n",
    "fig"
   ]
  },
  {
   "cell_type": "markdown",
   "metadata": {},
   "source": [
    "## Use the provided `concat()` function code snippet to combine the four separate city DataFrames into one DataFrame."
   ]
  },
  {
   "cell_type": "code",
   "execution_count": 34,
   "metadata": {},
   "outputs": [
    {
     "data": {
      "text/html": [
       "<div>\n",
       "<style scoped>\n",
       "    .dataframe tbody tr th:only-of-type {\n",
       "        vertical-align: middle;\n",
       "    }\n",
       "\n",
       "    .dataframe tbody tr th {\n",
       "        vertical-align: top;\n",
       "    }\n",
       "\n",
       "    .dataframe thead th {\n",
       "        text-align: right;\n",
       "    }\n",
       "</style>\n",
       "<table border=\"1\" class=\"dataframe\">\n",
       "  <thead>\n",
       "    <tr style=\"text-align: right;\">\n",
       "      <th></th>\n",
       "      <th>City_ID</th>\n",
       "      <th>City_ID.1</th>\n",
       "      <th>City</th>\n",
       "      <th>Country</th>\n",
       "      <th>Max Temp</th>\n",
       "      <th>Current Description</th>\n",
       "      <th>Lat</th>\n",
       "      <th>Lng</th>\n",
       "      <th>Hotel Name</th>\n",
       "    </tr>\n",
       "  </thead>\n",
       "  <tbody>\n",
       "    <tr>\n",
       "      <th>0</th>\n",
       "      <td>4</td>\n",
       "      <td>16</td>\n",
       "      <td>Northam</td>\n",
       "      <td>GB</td>\n",
       "      <td>82.40</td>\n",
       "      <td>few clouds</td>\n",
       "      <td>51.03</td>\n",
       "      <td>-4.22</td>\n",
       "      <td>Durrant House Hotel</td>\n",
       "    </tr>\n",
       "    <tr>\n",
       "      <th>1</th>\n",
       "      <td>99</td>\n",
       "      <td>237</td>\n",
       "      <td>Margate</td>\n",
       "      <td>GB</td>\n",
       "      <td>84.99</td>\n",
       "      <td>clear sky</td>\n",
       "      <td>51.38</td>\n",
       "      <td>1.39</td>\n",
       "      <td>Premier Inn Margate hotel</td>\n",
       "    </tr>\n",
       "    <tr>\n",
       "      <th>2</th>\n",
       "      <td>207</td>\n",
       "      <td>438</td>\n",
       "      <td>Liverpool</td>\n",
       "      <td>GB</td>\n",
       "      <td>88.00</td>\n",
       "      <td>few clouds</td>\n",
       "      <td>53.41</td>\n",
       "      <td>-2.98</td>\n",
       "      <td>Premier Inn Liverpool City Centre (Moorfields)...</td>\n",
       "    </tr>\n",
       "    <tr>\n",
       "      <th>3</th>\n",
       "      <td>317</td>\n",
       "      <td>633</td>\n",
       "      <td>Warrington</td>\n",
       "      <td>GB</td>\n",
       "      <td>88.00</td>\n",
       "      <td>clear sky</td>\n",
       "      <td>53.39</td>\n",
       "      <td>-2.58</td>\n",
       "      <td>Villaggio Hotel</td>\n",
       "    </tr>\n",
       "  </tbody>\n",
       "</table>\n",
       "</div>"
      ],
      "text/plain": [
       "   City_ID  City_ID.1        City Country  Max Temp Current Description  \\\n",
       "0        4         16     Northam      GB     82.40          few clouds   \n",
       "1       99        237     Margate      GB     84.99           clear sky   \n",
       "2      207        438   Liverpool      GB     88.00          few clouds   \n",
       "3      317        633  Warrington      GB     88.00           clear sky   \n",
       "\n",
       "     Lat   Lng                                         Hotel Name  \n",
       "0  51.03 -4.22                                Durrant House Hotel  \n",
       "1  51.38  1.39                          Premier Inn Margate hotel  \n",
       "2  53.41 -2.98  Premier Inn Liverpool City Centre (Moorfields)...  \n",
       "3  53.39 -2.58                                    Villaggio Hotel  "
      ]
     },
     "execution_count": 34,
     "metadata": {},
     "output_type": "execute_result"
    }
   ],
   "source": [
    "#  Combine the four city DataFrames into one DataFrame using the concat() function.\n",
    "itinerary_df = pd.concat(\n",
    "    [\n",
    "        vacation_start,\n",
    "        vacation_stop1,\n",
    "        vacation_stop2,\n",
    "        vacation_stop3\n",
    "    ],\n",
    "    ignore_index = True\n",
    ")\n",
    "\n",
    "# Display sample data\n",
    "itinerary_df"
   ]
  },
  {
   "cell_type": "markdown",
   "metadata": {},
   "source": [
    "## Refactor the code from Step 6 to create a new marker layer map of the cities on the travel route."
   ]
  },
  {
   "cell_type": "code",
   "execution_count": 41,
   "metadata": {},
   "outputs": [],
   "source": [
    "# Review the formatting template\n",
    "info_box_template = \"\"\"\n",
    "<dl>\n",
    "<dt>Hotel Name</dt><dd>{Hotel Name}</dd>\n",
    "<dt>City</dt><dd>{City}</dd>\n",
    "<dt>Country</dt><dd>{Country}</dd>\n",
    "<dt>Current Weather</dt><dd>{Current Description} and {Max Temp} °F</dd>\n",
    "</dl>\n",
    "\"\"\"\n",
    "\n",
    "# Get the data from each row and add it to the formatting template and store the data in a list\n",
    "hotel_info = [info_box_template.format(**row) for index, row in itinerary_df.iterrows()]\n",
    "\n",
    "# Get the latitude and longitude from each row and store in a new DataFrame.\n",
    "locations = itinerary_df[[\"Lat\", \"Lng\"]]"
   ]
  },
  {
   "cell_type": "code",
   "execution_count": 50,
   "metadata": {},
   "outputs": [
    {
     "data": {
      "application/vnd.jupyter.widget-view+json": {
       "model_id": "bb00f59f2c1b4e39b68239e78e799d68",
       "version_major": 2,
       "version_minor": 0
      },
      "text/plain": [
       "Figure(layout=FigureLayout(height='420px'))"
      ]
     },
     "metadata": {},
     "output_type": "display_data"
    }
   ],
   "source": [
    "# Add a marker layer for each city to the map.\n",
    "marker_layer = gmaps.marker_layer(locations, info_box_content=hotel_info)\n",
    "# Define a new figure object\n",
    "fig = gmaps.figure(center=(50.0, 50.0), zoom_level=3.5)\n",
    "\n",
    "# Add the layer to the map\n",
    "fig.add_layer(marker_layer)\n",
    "\n",
    "# Display the map\n",
    "fig"
   ]
  },
  {
   "cell_type": "code",
   "execution_count": null,
   "metadata": {},
   "outputs": [],
   "source": []
  }
 ],
 "metadata": {
  "kernelspec": {
   "display_name": "Python 3 (ipykernel)",
   "language": "python",
   "name": "python3"
  },
  "language_info": {
   "codemirror_mode": {
    "name": "ipython",
    "version": 3
   },
   "file_extension": ".py",
   "mimetype": "text/x-python",
   "name": "python",
   "nbconvert_exporter": "python",
   "pygments_lexer": "ipython3",
   "version": "3.9.12"
  },
  "latex_envs": {
   "LaTeX_envs_menu_present": true,
   "autoclose": false,
   "autocomplete": true,
   "bibliofile": "biblio.bib",
   "cite_by": "apalike",
   "current_citInitial": 1,
   "eqLabelWithNumbers": true,
   "eqNumInitial": 1,
   "hotkeys": {
    "equation": "Ctrl-E",
    "itemize": "Ctrl-I"
   },
   "labels_anchors": false,
   "latex_user_defs": false,
   "report_style_numbering": false,
   "user_envs_cfg": false
  }
 },
 "nbformat": 4,
 "nbformat_minor": 4
}
